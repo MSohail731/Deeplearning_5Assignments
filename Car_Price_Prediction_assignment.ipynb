{
  "nbformat": 4,
  "nbformat_minor": 0,
  "metadata": {
    "accelerator": "GPU",
    "colab": {
      "name": "Car Price Prediction assignment.ipynb",
      "provenance": [],
      "include_colab_link": true
    },
    "kernelspec": {
      "display_name": "Python 3",
      "language": "python",
      "name": "python3"
    },
    "language_info": {
      "codemirror_mode": {
        "name": "ipython",
        "version": 3
      },
      "file_extension": ".py",
      "mimetype": "text/x-python",
      "name": "python",
      "nbconvert_exporter": "python",
      "pygments_lexer": "ipython3",
      "version": "3.8.5"
    }
  },
  "cells": [
    {
      "cell_type": "markdown",
      "metadata": {
        "id": "view-in-github",
        "colab_type": "text"
      },
      "source": [
        "<a href=\"https://colab.research.google.com/github/MSohail731/Deeplearning_5Assignments/blob/main/Car_Price_Prediction_assignment.ipynb\" target=\"_parent\"><img src=\"https://colab.research.google.com/assets/colab-badge.svg\" alt=\"Open In Colab\"/></a>"
      ]
    },
    {
      "cell_type": "markdown",
      "metadata": {
        "id": "mOAKh0VX6A_w"
      },
      "source": [
        "# Car Price Prediction::"
      ]
    },
    {
      "cell_type": "markdown",
      "metadata": {
        "id": "aSstHJZc6A_9"
      },
      "source": [
        "Download dataset from this link:\n",
        "\n",
        "https://www.kaggle.com/hellbuoy/car-price-prediction"
      ]
    },
    {
      "cell_type": "markdown",
      "metadata": {
        "id": "PyE92shr6BAE"
      },
      "source": [
        "# Problem Statement::"
      ]
    },
    {
      "cell_type": "markdown",
      "metadata": {
        "id": "Xpwxam0R6BAF"
      },
      "source": [
        "A Chinese automobile company Geely Auto aspires to enter the US market by setting up their manufacturing unit there and producing cars locally to give competition to their US and European counterparts.\n",
        "\n",
        "They have contracted an automobile consulting company to understand the factors on which the pricing of cars depends. Specifically, they want to understand the factors affecting the pricing of cars in the American market, since those may be very different from the Chinese market. The company wants to know:\n",
        "\n",
        "Which variables are significant in predicting the price of a car\n",
        "How well those variables describe the price of a car\n",
        "Based on various market surveys, the consulting firm has gathered a large data set of different types of cars across the America market.\n",
        "\n",
        "# task::\n",
        "We are required to model the price of cars with the available independent variables. It will be used by the management to understand how exactly the prices vary with the independent variables. They can accordingly manipulate the design of the cars, the business strategy etc. to meet certain price levels. Further, the model will be a good way for management to understand the pricing dynamics of a new market."
      ]
    },
    {
      "cell_type": "markdown",
      "metadata": {
        "id": "xr5BdN8J6BAI"
      },
      "source": [
        "# WORKFLOW ::"
      ]
    },
    {
      "cell_type": "markdown",
      "metadata": {
        "id": "IsIVLK7j6BAK"
      },
      "source": [
        "1.Load Data\n",
        "\n",
        "2.Check Missing Values ( If Exist ; Fill each record with mean of its feature )\n",
        "\n",
        "3.Split into 50% Training(Samples,Labels) , 30% Test(Samples,Labels) and 20% Validation Data(Samples,Labels).\n",
        "\n",
        "4.Model : input Layer (No. of features ), 3 hidden layers including 10,8,6 unit & Output Layer with activation function relu/tanh (check by experiment).\n",
        "\n",
        "5.Compilation Step (Note : Its a Regression problem , select loss , metrics according to it)\n",
        "6.Train the Model with Epochs (100) and validate it\n",
        "\n",
        "7.If the model gets overfit tune your model by changing the units , No. of layers , activation function , epochs , add dropout layer or add Regularizer according to the need .\n",
        "\n",
        "8.Evaluation Step\n",
        "\n",
        "9.Prediction"
      ]
    },
    {
      "cell_type": "markdown",
      "metadata": {
        "id": "u_PakQpi7uUh"
      },
      "source": [
        "Importing Libraries "
      ]
    },
    {
      "cell_type": "code",
      "metadata": {
        "id": "8pqHomLI6BAR"
      },
      "source": [
        "import numpy as np\n",
        "import pandas as pd\n",
        "import matplotlib.pyplot as plt\n",
        "import seaborn as sns\n"
      ],
      "execution_count": 1,
      "outputs": []
    },
    {
      "cell_type": "code",
      "metadata": {
        "colab": {
          "base_uri": "https://localhost:8080/"
        },
        "id": "tcC8OmCF6IVX",
        "outputId": "48970f1d-5ed8-42fa-897c-bd557be2eeaa"
      },
      "source": [
        "#mounting google drive \n",
        "from google.colab import drive\n",
        "drive.mount('/content/drive')"
      ],
      "execution_count": 2,
      "outputs": [
        {
          "output_type": "stream",
          "text": [
            "Mounted at /content/drive\n"
          ],
          "name": "stdout"
        }
      ]
    },
    {
      "cell_type": "code",
      "metadata": {
        "colab": {
          "base_uri": "https://localhost:8080/",
          "height": 275
        },
        "id": "Tdt6eBJz6BAY",
        "outputId": "f2efe68e-49f7-4981-d0e9-792f363ae40d"
      },
      "source": [
        "#Loading data and cheking five rows \n",
        "df_car=pd.read_csv(\"/content/drive/MyDrive/CSV_Files/CarPrice_Assignment.csv\")\n",
        "df_car.head()"
      ],
      "execution_count": 3,
      "outputs": [
        {
          "output_type": "execute_result",
          "data": {
            "text/html": [
              "<div>\n",
              "<style scoped>\n",
              "    .dataframe tbody tr th:only-of-type {\n",
              "        vertical-align: middle;\n",
              "    }\n",
              "\n",
              "    .dataframe tbody tr th {\n",
              "        vertical-align: top;\n",
              "    }\n",
              "\n",
              "    .dataframe thead th {\n",
              "        text-align: right;\n",
              "    }\n",
              "</style>\n",
              "<table border=\"1\" class=\"dataframe\">\n",
              "  <thead>\n",
              "    <tr style=\"text-align: right;\">\n",
              "      <th></th>\n",
              "      <th>car_ID</th>\n",
              "      <th>symboling</th>\n",
              "      <th>CarName</th>\n",
              "      <th>fueltype</th>\n",
              "      <th>aspiration</th>\n",
              "      <th>doornumber</th>\n",
              "      <th>carbody</th>\n",
              "      <th>drivewheel</th>\n",
              "      <th>enginelocation</th>\n",
              "      <th>wheelbase</th>\n",
              "      <th>carlength</th>\n",
              "      <th>carwidth</th>\n",
              "      <th>carheight</th>\n",
              "      <th>curbweight</th>\n",
              "      <th>enginetype</th>\n",
              "      <th>cylindernumber</th>\n",
              "      <th>enginesize</th>\n",
              "      <th>fuelsystem</th>\n",
              "      <th>boreratio</th>\n",
              "      <th>stroke</th>\n",
              "      <th>compressionratio</th>\n",
              "      <th>horsepower</th>\n",
              "      <th>peakrpm</th>\n",
              "      <th>citympg</th>\n",
              "      <th>highwaympg</th>\n",
              "      <th>price</th>\n",
              "    </tr>\n",
              "  </thead>\n",
              "  <tbody>\n",
              "    <tr>\n",
              "      <th>0</th>\n",
              "      <td>1</td>\n",
              "      <td>3</td>\n",
              "      <td>alfa-romero giulia</td>\n",
              "      <td>gas</td>\n",
              "      <td>std</td>\n",
              "      <td>two</td>\n",
              "      <td>convertible</td>\n",
              "      <td>rwd</td>\n",
              "      <td>front</td>\n",
              "      <td>88.6</td>\n",
              "      <td>168.8</td>\n",
              "      <td>64.1</td>\n",
              "      <td>48.8</td>\n",
              "      <td>2548</td>\n",
              "      <td>dohc</td>\n",
              "      <td>four</td>\n",
              "      <td>130</td>\n",
              "      <td>mpfi</td>\n",
              "      <td>3.47</td>\n",
              "      <td>2.68</td>\n",
              "      <td>9.0</td>\n",
              "      <td>111</td>\n",
              "      <td>5000</td>\n",
              "      <td>21</td>\n",
              "      <td>27</td>\n",
              "      <td>13495.0</td>\n",
              "    </tr>\n",
              "    <tr>\n",
              "      <th>1</th>\n",
              "      <td>2</td>\n",
              "      <td>3</td>\n",
              "      <td>alfa-romero stelvio</td>\n",
              "      <td>gas</td>\n",
              "      <td>std</td>\n",
              "      <td>two</td>\n",
              "      <td>convertible</td>\n",
              "      <td>rwd</td>\n",
              "      <td>front</td>\n",
              "      <td>88.6</td>\n",
              "      <td>168.8</td>\n",
              "      <td>64.1</td>\n",
              "      <td>48.8</td>\n",
              "      <td>2548</td>\n",
              "      <td>dohc</td>\n",
              "      <td>four</td>\n",
              "      <td>130</td>\n",
              "      <td>mpfi</td>\n",
              "      <td>3.47</td>\n",
              "      <td>2.68</td>\n",
              "      <td>9.0</td>\n",
              "      <td>111</td>\n",
              "      <td>5000</td>\n",
              "      <td>21</td>\n",
              "      <td>27</td>\n",
              "      <td>16500.0</td>\n",
              "    </tr>\n",
              "    <tr>\n",
              "      <th>2</th>\n",
              "      <td>3</td>\n",
              "      <td>1</td>\n",
              "      <td>alfa-romero Quadrifoglio</td>\n",
              "      <td>gas</td>\n",
              "      <td>std</td>\n",
              "      <td>two</td>\n",
              "      <td>hatchback</td>\n",
              "      <td>rwd</td>\n",
              "      <td>front</td>\n",
              "      <td>94.5</td>\n",
              "      <td>171.2</td>\n",
              "      <td>65.5</td>\n",
              "      <td>52.4</td>\n",
              "      <td>2823</td>\n",
              "      <td>ohcv</td>\n",
              "      <td>six</td>\n",
              "      <td>152</td>\n",
              "      <td>mpfi</td>\n",
              "      <td>2.68</td>\n",
              "      <td>3.47</td>\n",
              "      <td>9.0</td>\n",
              "      <td>154</td>\n",
              "      <td>5000</td>\n",
              "      <td>19</td>\n",
              "      <td>26</td>\n",
              "      <td>16500.0</td>\n",
              "    </tr>\n",
              "    <tr>\n",
              "      <th>3</th>\n",
              "      <td>4</td>\n",
              "      <td>2</td>\n",
              "      <td>audi 100 ls</td>\n",
              "      <td>gas</td>\n",
              "      <td>std</td>\n",
              "      <td>four</td>\n",
              "      <td>sedan</td>\n",
              "      <td>fwd</td>\n",
              "      <td>front</td>\n",
              "      <td>99.8</td>\n",
              "      <td>176.6</td>\n",
              "      <td>66.2</td>\n",
              "      <td>54.3</td>\n",
              "      <td>2337</td>\n",
              "      <td>ohc</td>\n",
              "      <td>four</td>\n",
              "      <td>109</td>\n",
              "      <td>mpfi</td>\n",
              "      <td>3.19</td>\n",
              "      <td>3.40</td>\n",
              "      <td>10.0</td>\n",
              "      <td>102</td>\n",
              "      <td>5500</td>\n",
              "      <td>24</td>\n",
              "      <td>30</td>\n",
              "      <td>13950.0</td>\n",
              "    </tr>\n",
              "    <tr>\n",
              "      <th>4</th>\n",
              "      <td>5</td>\n",
              "      <td>2</td>\n",
              "      <td>audi 100ls</td>\n",
              "      <td>gas</td>\n",
              "      <td>std</td>\n",
              "      <td>four</td>\n",
              "      <td>sedan</td>\n",
              "      <td>4wd</td>\n",
              "      <td>front</td>\n",
              "      <td>99.4</td>\n",
              "      <td>176.6</td>\n",
              "      <td>66.4</td>\n",
              "      <td>54.3</td>\n",
              "      <td>2824</td>\n",
              "      <td>ohc</td>\n",
              "      <td>five</td>\n",
              "      <td>136</td>\n",
              "      <td>mpfi</td>\n",
              "      <td>3.19</td>\n",
              "      <td>3.40</td>\n",
              "      <td>8.0</td>\n",
              "      <td>115</td>\n",
              "      <td>5500</td>\n",
              "      <td>18</td>\n",
              "      <td>22</td>\n",
              "      <td>17450.0</td>\n",
              "    </tr>\n",
              "  </tbody>\n",
              "</table>\n",
              "</div>"
            ],
            "text/plain": [
              "   car_ID  symboling                   CarName  ... citympg highwaympg    price\n",
              "0       1          3        alfa-romero giulia  ...      21         27  13495.0\n",
              "1       2          3       alfa-romero stelvio  ...      21         27  16500.0\n",
              "2       3          1  alfa-romero Quadrifoglio  ...      19         26  16500.0\n",
              "3       4          2               audi 100 ls  ...      24         30  13950.0\n",
              "4       5          2                audi 100ls  ...      18         22  17450.0\n",
              "\n",
              "[5 rows x 26 columns]"
            ]
          },
          "metadata": {
            "tags": []
          },
          "execution_count": 3
        }
      ]
    },
    {
      "cell_type": "code",
      "metadata": {
        "id": "2vA5VX-vIZH8"
      },
      "source": [
        "X=df_car.iloc[:,:-1]\n",
        "y=df_car.iloc[:,-1]"
      ],
      "execution_count": 4,
      "outputs": []
    },
    {
      "cell_type": "code",
      "metadata": {
        "id": "ofuPqYKtAFUI"
      },
      "source": [
        "X.drop(X.select_dtypes(include='object'),axis=1,inplace=True)"
      ],
      "execution_count": 5,
      "outputs": []
    },
    {
      "cell_type": "code",
      "metadata": {
        "colab": {
          "base_uri": "https://localhost:8080/"
        },
        "id": "WtRy-u2jAQIf",
        "outputId": "81d6b9d1-eaae-4991-d514-a976225e2f8d"
      },
      "source": [
        "print(f\"Shape of input ==> X :{X.shape}\\nShape of output ==> Y :{y.shape} \")"
      ],
      "execution_count": 6,
      "outputs": [
        {
          "output_type": "stream",
          "text": [
            "Shape of input ==> X :(205, 15)\n",
            "Shape of output ==> Y :(205,) \n"
          ],
          "name": "stdout"
        }
      ]
    },
    {
      "cell_type": "code",
      "metadata": {
        "id": "h_4fte7MAFv8"
      },
      "source": [
        "X_train=X.sample(frac=0.7, replace=True, random_state=1,axis=0)\n",
        "y_train=y.sample(frac=0.7, replace=True, random_state=1,axis=0)"
      ],
      "execution_count": 7,
      "outputs": []
    },
    {
      "cell_type": "code",
      "metadata": {
        "id": "Vkuu-dDXCim4"
      },
      "source": [
        "X_test=X.sample(frac=0.3, replace=True, random_state=1,axis=0)\n",
        "y_test=y.sample(frac=0.3, replace=True, random_state=1,axis=0)"
      ],
      "execution_count": 8,
      "outputs": []
    },
    {
      "cell_type": "code",
      "metadata": {
        "colab": {
          "base_uri": "https://localhost:8080/"
        },
        "id": "0sctn8l0WnhH",
        "outputId": "ef8f048e-bc7d-4e4b-bc55-0b4da5ab0e98"
      },
      "source": [
        "print(f\"shape of training data is :{X_train.shape}\\nshape of training label is :{y_train.shape}\\nshape of testing data is :{X_test.shape}\\nshape of testing label is :{y_test.shape}\")"
      ],
      "execution_count": 9,
      "outputs": [
        {
          "output_type": "stream",
          "text": [
            "shape of training data is :(144, 15)\n",
            "shape of training label is :(144,)\n",
            "shape of testing data is :(62, 15)\n",
            "shape of testing label is :(62,)\n"
          ],
          "name": "stdout"
        }
      ]
    },
    {
      "cell_type": "code",
      "metadata": {
        "id": "ZTHXZxvIXbyL"
      },
      "source": [
        "X_train=np.asarray(X_train).astype(\"float32\")\n",
        "X_test=np.asarray(X_test).astype(\"float32\")"
      ],
      "execution_count": 10,
      "outputs": []
    },
    {
      "cell_type": "code",
      "metadata": {
        "id": "9AnUOYUp6BAd"
      },
      "source": [
        "mean = X_train.mean(axis=0)\n",
        "X_train-= mean\n",
        "std = X_train.std(axis=0)\n",
        "X_train/= std\n",
        "X_test-= mean\n",
        "X_test/= std"
      ],
      "execution_count": 11,
      "outputs": []
    },
    {
      "cell_type": "code",
      "metadata": {
        "id": "NLyzGAu56BAf"
      },
      "source": [
        "y_mean = y_train.mean(axis=0)\n",
        "y_train-= y_mean\n",
        "y_std = y_train.std(axis=0)\n",
        "y_train/= y_std\n",
        "y_test-= y_mean\n",
        "y_test/= y_std"
      ],
      "execution_count": 12,
      "outputs": []
    },
    {
      "cell_type": "code",
      "metadata": {
        "id": "59ZzAIFP6BAg"
      },
      "source": [
        "val_x=X_train[:50]\n",
        "partial_x_train=X_train[50:]\n",
        "val_y=y_train[:50]\n",
        "partial_y_train=y_train[50:]"
      ],
      "execution_count": 13,
      "outputs": []
    },
    {
      "cell_type": "code",
      "metadata": {
        "id": "4fl7aV6_3wqK"
      },
      "source": [
        "import tensorflow as tf\n",
        "from keras import models,layers,optimizers,losses\n",
        "network=models.Sequential()\n",
        "network.add(layers.Dense(10,activation=\"relu\" ,input_shape=(X_train.shape[1],)))\n",
        "network.add(layers.Dropout(0.2))\n",
        "network.add(layers.Dense(8,activation=\"relu\"))\n",
        "#network.add(layers.Dropout(0.2))\n",
        "network.add(layers.Dense(6,activation=\"relu\"))\n",
        "network.add(layers.Dense(1))\n",
        "network.compile(optimizer=\"rmsprop\",loss=\"mse\",metrics=[\"mae\"])"
      ],
      "execution_count": 14,
      "outputs": []
    },
    {
      "cell_type": "code",
      "metadata": {
        "colab": {
          "base_uri": "https://localhost:8080/"
        },
        "id": "oLGAUrNT48wi",
        "outputId": "bf823afe-ad44-45ce-ca46-3af63bcccbb7"
      },
      "source": [
        "network.summary()"
      ],
      "execution_count": 15,
      "outputs": [
        {
          "output_type": "stream",
          "text": [
            "Model: \"sequential\"\n",
            "_________________________________________________________________\n",
            "Layer (type)                 Output Shape              Param #   \n",
            "=================================================================\n",
            "dense (Dense)                (None, 10)                160       \n",
            "_________________________________________________________________\n",
            "dropout (Dropout)            (None, 10)                0         \n",
            "_________________________________________________________________\n",
            "dense_1 (Dense)              (None, 8)                 88        \n",
            "_________________________________________________________________\n",
            "dense_2 (Dense)              (None, 6)                 54        \n",
            "_________________________________________________________________\n",
            "dense_3 (Dense)              (None, 1)                 7         \n",
            "=================================================================\n",
            "Total params: 309\n",
            "Trainable params: 309\n",
            "Non-trainable params: 0\n",
            "_________________________________________________________________\n"
          ],
          "name": "stdout"
        }
      ]
    },
    {
      "cell_type": "code",
      "metadata": {
        "colab": {
          "base_uri": "https://localhost:8080/"
        },
        "id": "dYDbEkY05Sfk",
        "outputId": "06700e1f-b6fe-4cba-e36e-04fcac376284"
      },
      "source": [
        "history=network.fit(partial_x_train, partial_y_train,epochs=45, batch_size=1, verbose=1,validation_data=(val_x,val_y))"
      ],
      "execution_count": 16,
      "outputs": [
        {
          "output_type": "stream",
          "text": [
            "Epoch 1/45\n",
            "94/94 [==============================] - 4s 6ms/step - loss: 0.4951 - mae: 0.5390 - val_loss: 1.1944 - val_mae: 0.8054\n",
            "Epoch 2/45\n",
            "94/94 [==============================] - 0s 3ms/step - loss: 0.6005 - mae: 0.5679 - val_loss: 1.0934 - val_mae: 0.7379\n",
            "Epoch 3/45\n",
            "94/94 [==============================] - 0s 3ms/step - loss: 0.5535 - mae: 0.5002 - val_loss: 0.9601 - val_mae: 0.6760\n",
            "Epoch 4/45\n",
            "94/94 [==============================] - 0s 3ms/step - loss: 0.8833 - mae: 0.5920 - val_loss: 0.8680 - val_mae: 0.6399\n",
            "Epoch 5/45\n",
            "94/94 [==============================] - 0s 3ms/step - loss: 0.4040 - mae: 0.4344 - val_loss: 0.8140 - val_mae: 0.6177\n",
            "Epoch 6/45\n",
            "94/94 [==============================] - 0s 3ms/step - loss: 0.6669 - mae: 0.4590 - val_loss: 0.5961 - val_mae: 0.5360\n",
            "Epoch 7/45\n",
            "94/94 [==============================] - 0s 3ms/step - loss: 0.2302 - mae: 0.3280 - val_loss: 0.5766 - val_mae: 0.5184\n",
            "Epoch 8/45\n",
            "94/94 [==============================] - 0s 3ms/step - loss: 0.4859 - mae: 0.4097 - val_loss: 0.5868 - val_mae: 0.5182\n",
            "Epoch 9/45\n",
            "94/94 [==============================] - 0s 3ms/step - loss: 0.3709 - mae: 0.3152 - val_loss: 0.4960 - val_mae: 0.4814\n",
            "Epoch 10/45\n",
            "94/94 [==============================] - 0s 3ms/step - loss: 0.2806 - mae: 0.2921 - val_loss: 0.4278 - val_mae: 0.4449\n",
            "Epoch 11/45\n",
            "94/94 [==============================] - 0s 3ms/step - loss: 0.2248 - mae: 0.3165 - val_loss: 0.4272 - val_mae: 0.4498\n",
            "Epoch 12/45\n",
            "94/94 [==============================] - 0s 3ms/step - loss: 0.2822 - mae: 0.3712 - val_loss: 0.3607 - val_mae: 0.4228\n",
            "Epoch 13/45\n",
            "94/94 [==============================] - 0s 3ms/step - loss: 0.6423 - mae: 0.4398 - val_loss: 0.3811 - val_mae: 0.4221\n",
            "Epoch 14/45\n",
            "94/94 [==============================] - 0s 3ms/step - loss: 0.1376 - mae: 0.2166 - val_loss: 0.3441 - val_mae: 0.4040\n",
            "Epoch 15/45\n",
            "94/94 [==============================] - 0s 3ms/step - loss: 0.3603 - mae: 0.3394 - val_loss: 0.3306 - val_mae: 0.3937\n",
            "Epoch 16/45\n",
            "94/94 [==============================] - 0s 3ms/step - loss: 0.3075 - mae: 0.3165 - val_loss: 0.3236 - val_mae: 0.3817\n",
            "Epoch 17/45\n",
            "94/94 [==============================] - 0s 3ms/step - loss: 0.2348 - mae: 0.2754 - val_loss: 0.3017 - val_mae: 0.3744\n",
            "Epoch 18/45\n",
            "94/94 [==============================] - 0s 3ms/step - loss: 0.2179 - mae: 0.3273 - val_loss: 0.3050 - val_mae: 0.3736\n",
            "Epoch 19/45\n",
            "94/94 [==============================] - 0s 3ms/step - loss: 0.2301 - mae: 0.3037 - val_loss: 0.2939 - val_mae: 0.3727\n",
            "Epoch 20/45\n",
            "94/94 [==============================] - 0s 3ms/step - loss: 0.1658 - mae: 0.2897 - val_loss: 0.2703 - val_mae: 0.3620\n",
            "Epoch 21/45\n",
            "94/94 [==============================] - 0s 3ms/step - loss: 0.1167 - mae: 0.2389 - val_loss: 0.2377 - val_mae: 0.3345\n",
            "Epoch 22/45\n",
            "94/94 [==============================] - 0s 3ms/step - loss: 0.2215 - mae: 0.3231 - val_loss: 0.2265 - val_mae: 0.3328\n",
            "Epoch 23/45\n",
            "94/94 [==============================] - 0s 3ms/step - loss: 0.2091 - mae: 0.2987 - val_loss: 0.2243 - val_mae: 0.3207\n",
            "Epoch 24/45\n",
            "94/94 [==============================] - 0s 3ms/step - loss: 0.2345 - mae: 0.3216 - val_loss: 0.2613 - val_mae: 0.3535\n",
            "Epoch 25/45\n",
            "94/94 [==============================] - 0s 3ms/step - loss: 0.2740 - mae: 0.2767 - val_loss: 0.2764 - val_mae: 0.3463\n",
            "Epoch 26/45\n",
            "94/94 [==============================] - 0s 3ms/step - loss: 0.2310 - mae: 0.2537 - val_loss: 0.2430 - val_mae: 0.3328\n",
            "Epoch 27/45\n",
            "94/94 [==============================] - 0s 3ms/step - loss: 0.3240 - mae: 0.3455 - val_loss: 0.2173 - val_mae: 0.3140\n",
            "Epoch 28/45\n",
            "94/94 [==============================] - 0s 3ms/step - loss: 0.2188 - mae: 0.3009 - val_loss: 0.1805 - val_mae: 0.2814\n",
            "Epoch 29/45\n",
            "94/94 [==============================] - 0s 3ms/step - loss: 0.1551 - mae: 0.2854 - val_loss: 0.1606 - val_mae: 0.2683\n",
            "Epoch 30/45\n",
            "94/94 [==============================] - 0s 3ms/step - loss: 0.1259 - mae: 0.2588 - val_loss: 0.1755 - val_mae: 0.2833\n",
            "Epoch 31/45\n",
            "94/94 [==============================] - 0s 3ms/step - loss: 0.1343 - mae: 0.2486 - val_loss: 0.1486 - val_mae: 0.2757\n",
            "Epoch 32/45\n",
            "94/94 [==============================] - 0s 3ms/step - loss: 0.0967 - mae: 0.2213 - val_loss: 0.1615 - val_mae: 0.2770\n",
            "Epoch 33/45\n",
            "94/94 [==============================] - 0s 3ms/step - loss: 0.3373 - mae: 0.3045 - val_loss: 0.1793 - val_mae: 0.2845\n",
            "Epoch 34/45\n",
            "94/94 [==============================] - 0s 3ms/step - loss: 0.1066 - mae: 0.2282 - val_loss: 0.1656 - val_mae: 0.2686\n",
            "Epoch 35/45\n",
            "94/94 [==============================] - 0s 3ms/step - loss: 0.5436 - mae: 0.3356 - val_loss: 0.1643 - val_mae: 0.2729\n",
            "Epoch 36/45\n",
            "94/94 [==============================] - 0s 3ms/step - loss: 0.1160 - mae: 0.2356 - val_loss: 0.1583 - val_mae: 0.2652\n",
            "Epoch 37/45\n",
            "94/94 [==============================] - 0s 3ms/step - loss: 0.2807 - mae: 0.3146 - val_loss: 0.1746 - val_mae: 0.2771\n",
            "Epoch 38/45\n",
            "94/94 [==============================] - 0s 3ms/step - loss: 0.0772 - mae: 0.1982 - val_loss: 0.1404 - val_mae: 0.2671\n",
            "Epoch 39/45\n",
            "94/94 [==============================] - 0s 3ms/step - loss: 0.1182 - mae: 0.2182 - val_loss: 0.1462 - val_mae: 0.2752\n",
            "Epoch 40/45\n",
            "94/94 [==============================] - 0s 3ms/step - loss: 0.2426 - mae: 0.3182 - val_loss: 0.1472 - val_mae: 0.2720\n",
            "Epoch 41/45\n",
            "94/94 [==============================] - 0s 3ms/step - loss: 0.1984 - mae: 0.2593 - val_loss: 0.1799 - val_mae: 0.2886\n",
            "Epoch 42/45\n",
            "94/94 [==============================] - 0s 3ms/step - loss: 0.1369 - mae: 0.2220 - val_loss: 0.1659 - val_mae: 0.2798\n",
            "Epoch 43/45\n",
            "94/94 [==============================] - 0s 3ms/step - loss: 0.0936 - mae: 0.1964 - val_loss: 0.1549 - val_mae: 0.2724\n",
            "Epoch 44/45\n",
            "94/94 [==============================] - 0s 3ms/step - loss: 0.1585 - mae: 0.2785 - val_loss: 0.1678 - val_mae: 0.2726\n",
            "Epoch 45/45\n",
            "94/94 [==============================] - 0s 3ms/step - loss: 0.1367 - mae: 0.2110 - val_loss: 0.1614 - val_mae: 0.2737\n"
          ],
          "name": "stdout"
        }
      ]
    },
    {
      "cell_type": "code",
      "metadata": {
        "colab": {
          "base_uri": "https://localhost:8080/",
          "height": 295
        },
        "id": "8GN7NXzJ5hTO",
        "outputId": "6a4458fd-02dc-498a-e70d-c36744061bfa"
      },
      "source": [
        "loss = history.history['loss']\n",
        "val_loss = history.history['val_loss']\n",
        "epochs = range(1, len(loss) + 1)\n",
        "plt.plot(epochs, loss,\"go\",label='Training loss')\n",
        "plt.plot(epochs, val_loss, 'r', label='Validation loss')\n",
        "plt.title('Training and validation loss')\n",
        "plt.xlabel('Epochs')\n",
        "plt.ylabel('Loss')\n",
        "plt.legend()\n",
        "plt.grid()\n",
        "plt.show()"
      ],
      "execution_count": 17,
      "outputs": [
        {
          "output_type": "display_data",
          "data": {
            "image/png": "[encoded data removed]",
            "text/plain": [
              "<Figure size 432x288 with 1 Axes>"
            ]
          },
          "metadata": {
            "tags": [],
            "needs_background": "light"
          }
        }
      ]
    },
    {
      "cell_type": "code",
      "metadata": {
        "colab": {
          "base_uri": "https://localhost:8080/"
        },
        "id": "kEoA-LKT7GvX",
        "outputId": "c655cfa5-39e8-4895-aeac-37c1389114b1"
      },
      "source": [
        "network.evaluate(X_test,y_test)"
      ],
      "execution_count": 18,
      "outputs": [
        {
          "output_type": "stream",
          "text": [
            "2/2 [==============================] - 0s 6ms/step - loss: 0.1431 - mae: 0.2578\n"
          ],
          "name": "stdout"
        },
        {
          "output_type": "execute_result",
          "data": {
            "text/plain": [
              "[0.14306016266345978, 0.25783661007881165]"
            ]
          },
          "metadata": {
            "tags": []
          },
          "execution_count": 18
        }
      ]
    },
    {
      "cell_type": "code",
      "metadata": {
        "colab": {
          "base_uri": "https://localhost:8080/"
        },
        "id": "tC9O--I3-fhq",
        "outputId": "22ca550c-0044-4f12-bef0-b4c166bd3480"
      },
      "source": [
        "result_1=network.predict(X_test)\n",
        "result_1[4]"
      ],
      "execution_count": 19,
      "outputs": [
        {
          "output_type": "execute_result",
          "data": {
            "text/plain": [
              "array([0.7175265], dtype=float32)"
            ]
          },
          "metadata": {
            "tags": []
          },
          "execution_count": 19
        }
      ]
    },
    {
      "cell_type": "code",
      "metadata": {
        "colab": {
          "base_uri": "https://localhost:8080/",
          "height": 295
        },
        "id": "bhyLGejV-unF",
        "outputId": "a98c5196-14eb-45d5-e9c5-233b65ae31bc"
      },
      "source": [
        "y=result_1\n",
        "y1=range(62)\n",
        "x=y_test\n",
        "plt.scatter(x, y1, label= \"Actual price\", color= \"green\", marker= \"*\", s=100)\n",
        "plt.scatter(y, y1, label= \"Predicted Price\", color= \"yellow\", marker= \"^\", s=100)\n",
        "plt.xlabel('Price')\n",
        "plt.ylabel('Rows')\n",
        "plt.title('Actual price vs predicted price!')\n",
        "plt.legend()\n",
        "plt.grid()\n",
        "plt.show()"
      ],
      "execution_count": 20,
      "outputs": [
        {
          "output_type": "display_data",
          "data": {
            "image/png": "[encoded data removed]",
            "text/plain": [
              "<Figure size 432x288 with 1 Axes>"
            ]
          },
          "metadata": {
            "tags": [],
            "needs_background": "light"
          }
        }
      ]
    },
    {
      "cell_type": "code",
      "metadata": {
        "id": "8uy7iAnzRkaz"
      },
      "source": [
        ""
      ],
      "execution_count": 20,
      "outputs": []
    }
  ]
}