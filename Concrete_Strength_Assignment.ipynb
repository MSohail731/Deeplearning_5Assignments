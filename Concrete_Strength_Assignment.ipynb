{
  "nbformat": 4,
  "nbformat_minor": 0,
  "metadata": {
    "colab": {
      "name": "Concrete_Strength_Assignment.ipynb",
      "provenance": [],
      "include_colab_link": true
    },
    "kernelspec": {
      "display_name": "Python 3",
      "language": "python",
      "name": "python3"
    },
    "language_info": {
      "codemirror_mode": {
        "name": "ipython",
        "version": 3
      },
      "file_extension": ".py",
      "mimetype": "text/x-python",
      "name": "python",
      "nbconvert_exporter": "python",
      "pygments_lexer": "ipython3",
      "version": "3.8.5"
    }
  },
  "cells": [
    {
      "cell_type": "markdown",
      "metadata": {
        "id": "view-in-github",
        "colab_type": "text"
      },
      "source": [
        "<a href=\"https://colab.research.google.com/github/MSohail731/Deeplearning_5Assignments/blob/main/Concrete_Strength_Assignment.ipynb\" target=\"_parent\"><img src=\"https://colab.research.google.com/assets/colab-badge.svg\" alt=\"Open In Colab\"/></a>"
      ]
    },
    {
      "cell_type": "markdown",
      "metadata": {
        "id": "nnlyIQflOZJG"
      },
      "source": [
        "# Assignment: Compresive Strength Concrete Problem\n",
        "\n",
        "\n",
        "### Abstract: \n",
        "\n",
        "Concrete is the most important material in civil engineering. The concrete compressive strength (concrete strength to bear the load) is a highly nonlinear function of age and ingredients.  <br><br>\n",
        "\n",
        "<table border=\"1\"  cellpadding=\"6\" bordercolor=\"red\">\n",
        "\t<tbody>\n",
        "        <tr>\n",
        "\t\t<td bgcolor=\"#DDEEFF\"><p class=\"normal\"><b>Data Set Characteristics:&nbsp;&nbsp;</b></p></td>\n",
        "\t\t<td><p class=\"normal\">Multivariate</p></td>\n",
        "\t\t<td bgcolor=\"#DDEEFF\"><p class=\"normal\"><b>Number of Instances:</b></p></td>\n",
        "\t\t<td><p class=\"normal\">1030</p></td>\n",
        "\t\t<td bgcolor=\"#DDEEFF\"><p class=\"normal\"><b>Area:</b></p></td>\n",
        "\t\t<td><p class=\"normal\">Physical</p></td>\n",
        "        </tr>\n",
        "     </tbody>\n",
        "    </table>\n",
        "<table border=\"1\" cellpadding=\"6\">\n",
        "    <tbody>\n",
        "        <tr>\n",
        "            <td bgcolor=\"#DDEEFF\"><p class=\"normal\"><b>Attribute Characteristics:</b></p></td>\n",
        "            <td><p class=\"normal\">Real</p></td>\n",
        "            <td bgcolor=\"#DDEEFF\"><p class=\"normal\"><b>Number of Attributes:</b></p></td>\n",
        "            <td><p class=\"normal\">9</p></td>\n",
        "            <td bgcolor=\"#DDEEFF\"><p class=\"normal\"><b>Date Donated</b></p></td>\n",
        "            <td><p class=\"normal\">2007-08-03</p></td>\n",
        "        </tr>\n",
        "     </tbody>\n",
        "    </table>\n",
        "<table border=\"1\" cellpadding=\"6\">\t\n",
        "    <tbody>\n",
        "    <tr>\n",
        "\t\t<td bgcolor=\"#DDEEFF\"><p class=\"normal\"><b>Associated Tasks:</b></p></td>\n",
        "\t\t<td><p class=\"normal\">Regression</p></td>\n",
        "\t\t<td bgcolor=\"#DDEEFF\"><p class=\"normal\"><b>Missing Values?</b></p></td>\n",
        "\t\t<td><p class=\"normal\">N/A</p></td>\n",
        "\t\t<td bgcolor=\"#DDEEFF\"><p class=\"normal\"><b>Number of Web Hits:</b></p></td>\n",
        "\t\t<td><p class=\"normal\">231464</p></td>\n",
        "\t</tr>\n",
        "    </tbody>\n",
        "    </table>"
      ]
    },
    {
      "cell_type": "markdown",
      "metadata": {
        "id": "wDVdvMBAOZJL"
      },
      "source": [
        "###  Description:\n",
        "| Features Name | Data Type | Measurement | Description |\n",
        "| -- | -- | -- | -- |\n",
        "Cement (component 1) | quantitative | kg in a m3 mixture | Input Variable\n",
        "Blast Furnace Slag (component 2) | quantitative | kg in a m3 mixture | Input Variable\n",
        "Fly Ash (component 3) | quantitative | kg in a m3 mixture | Input Variable\n",
        "Water (component 4) | quantitative | kg in a m3 mixture | Input Variable\n",
        "Superplasticizer (component 5) | quantitative | kg in a m3 mixture | Input Variable\n",
        "Coarse Aggregate (component 6) | quantitative | kg in a m3 mixture | Input Variable\n",
        "Fine Aggregate (component 7) | quantitative | kg in a m3 mixture | Input Variable\n",
        "Age | quantitative | Day (1~365) | Input Variable\n",
        "Concrete compressive strength | quantitative | MPa | Output Variable\n",
        "\n",
        "### WORKFLOW :\n",
        "- Load Data\n",
        "- Check Missing Values ( If Exist ; Fill each record with mean of its feature )\n",
        "- Standardized the Input Variables. **Hint**: Centeralized the data\n",
        "- Split into 50% Training(Samples,Labels) , 30% Test(Samples,Labels) and 20% Validation Data(Samples,Labels).\n",
        "- Model : input Layer (No. of features ), 3 hidden layers including 10,8,6 unit & Output Layer with activation function relu/tanh (check by experiment).\n",
        "- Compilation Step (Note : Its a Regression problem , select loss , metrics according to it)\n",
        "- Train the Model with Epochs (100) and validate it\n",
        "- If the model gets overfit tune your model by changing the units , No. of layers , activation function , epochs , add dropout layer or add Regularizer according to the need .\n",
        "- Evaluation Step\n",
        "- Prediction\n"
      ]
    },
    {
      "cell_type": "markdown",
      "metadata": {
        "id": "8_lYngD2OZJN"
      },
      "source": [
        "# Load Data:\n",
        "[Click Here to Download DataSet](https://github.com/ramsha275/ML_Datasets/blob/main/compresive_strength_concrete.csv)"
      ]
    },
    {
      "cell_type": "code",
      "metadata": {
        "id": "FgrSF5j_OZJO"
      },
      "source": [
        "import tensorflow as tf\n",
        "import numpy as np\n",
        "import pandas as pd\n",
        "from tensorflow.keras import models, layers , optimizers"
      ],
      "execution_count": 1,
      "outputs": []
    },
    {
      "cell_type": "code",
      "metadata": {
        "colab": {
          "base_uri": "https://localhost:8080/"
        },
        "id": "thBGRKLPPHZY",
        "outputId": "1b611bff-1d4f-4100-fa94-87ef7fd5b812"
      },
      "source": [
        "from google.colab import drive\n",
        "drive.mount(\"/content/gdrive\")"
      ],
      "execution_count": 2,
      "outputs": [
        {
          "output_type": "stream",
          "text": [
            "Mounted at /content/gdrive\n"
          ],
          "name": "stdout"
        }
      ]
    },
    {
      "cell_type": "code",
      "metadata": {
        "id": "H43i_gBFPe02"
      },
      "source": [
        "df= pd.read_csv(\"/content/gdrive/MyDrive/CSV_Files/compresive_strength_concrete.csv\")"
      ],
      "execution_count": 3,
      "outputs": []
    },
    {
      "cell_type": "code",
      "metadata": {
        "colab": {
          "base_uri": "https://localhost:8080/",
          "height": 255
        },
        "id": "oH6RIxSbQy3d",
        "outputId": "29948c2d-6279-42b1-d26e-ff5511e4f164"
      },
      "source": [
        "df.head()"
      ],
      "execution_count": 4,
      "outputs": [
        {
          "output_type": "execute_result",
          "data": {
            "text/html": [
              "<div>\n",
              "<style scoped>\n",
              "    .dataframe tbody tr th:only-of-type {\n",
              "        vertical-align: middle;\n",
              "    }\n",
              "\n",
              "    .dataframe tbody tr th {\n",
              "        vertical-align: top;\n",
              "    }\n",
              "\n",
              "    .dataframe thead th {\n",
              "        text-align: right;\n",
              "    }\n",
              "</style>\n",
              "<table border=\"1\" class=\"dataframe\">\n",
              "  <thead>\n",
              "    <tr style=\"text-align: right;\">\n",
              "      <th></th>\n",
              "      <th>Cement (component 1)(kg in a m^3 mixture)</th>\n",
              "      <th>Blast Furnace Slag (component 2)(kg in a m^3 mixture)</th>\n",
              "      <th>Fly Ash (component 3)(kg in a m^3 mixture)</th>\n",
              "      <th>Water  (component 4)(kg in a m^3 mixture)</th>\n",
              "      <th>Superplasticizer (component 5)(kg in a m^3 mixture)</th>\n",
              "      <th>Coarse Aggregate  (component 6)(kg in a m^3 mixture)</th>\n",
              "      <th>Fine Aggregate (component 7)(kg in a m^3 mixture)</th>\n",
              "      <th>Age (day)</th>\n",
              "      <th>Concrete compressive strength(MPa, megapascals)</th>\n",
              "    </tr>\n",
              "  </thead>\n",
              "  <tbody>\n",
              "    <tr>\n",
              "      <th>0</th>\n",
              "      <td>540.0</td>\n",
              "      <td>0.0</td>\n",
              "      <td>0.0</td>\n",
              "      <td>162.0</td>\n",
              "      <td>2.5</td>\n",
              "      <td>1040.0</td>\n",
              "      <td>676.0</td>\n",
              "      <td>28</td>\n",
              "      <td>79.99</td>\n",
              "    </tr>\n",
              "    <tr>\n",
              "      <th>1</th>\n",
              "      <td>540.0</td>\n",
              "      <td>0.0</td>\n",
              "      <td>0.0</td>\n",
              "      <td>162.0</td>\n",
              "      <td>2.5</td>\n",
              "      <td>1055.0</td>\n",
              "      <td>676.0</td>\n",
              "      <td>28</td>\n",
              "      <td>61.89</td>\n",
              "    </tr>\n",
              "    <tr>\n",
              "      <th>2</th>\n",
              "      <td>332.5</td>\n",
              "      <td>142.5</td>\n",
              "      <td>0.0</td>\n",
              "      <td>228.0</td>\n",
              "      <td>0.0</td>\n",
              "      <td>932.0</td>\n",
              "      <td>594.0</td>\n",
              "      <td>270</td>\n",
              "      <td>40.27</td>\n",
              "    </tr>\n",
              "    <tr>\n",
              "      <th>3</th>\n",
              "      <td>332.5</td>\n",
              "      <td>142.5</td>\n",
              "      <td>0.0</td>\n",
              "      <td>228.0</td>\n",
              "      <td>0.0</td>\n",
              "      <td>932.0</td>\n",
              "      <td>594.0</td>\n",
              "      <td>365</td>\n",
              "      <td>41.05</td>\n",
              "    </tr>\n",
              "    <tr>\n",
              "      <th>4</th>\n",
              "      <td>198.6</td>\n",
              "      <td>132.4</td>\n",
              "      <td>0.0</td>\n",
              "      <td>192.0</td>\n",
              "      <td>0.0</td>\n",
              "      <td>978.4</td>\n",
              "      <td>825.5</td>\n",
              "      <td>360</td>\n",
              "      <td>44.30</td>\n",
              "    </tr>\n",
              "  </tbody>\n",
              "</table>\n",
              "</div>"
            ],
            "text/plain": [
              "   Cement (component 1)(kg in a m^3 mixture)  ...  Concrete compressive strength(MPa, megapascals) \n",
              "0                                      540.0  ...                                             79.99\n",
              "1                                      540.0  ...                                             61.89\n",
              "2                                      332.5  ...                                             40.27\n",
              "3                                      332.5  ...                                             41.05\n",
              "4                                      198.6  ...                                             44.30\n",
              "\n",
              "[5 rows x 9 columns]"
            ]
          },
          "metadata": {
            "tags": []
          },
          "execution_count": 4
        }
      ]
    },
    {
      "cell_type": "code",
      "metadata": {
        "colab": {
          "base_uri": "https://localhost:8080/"
        },
        "id": "q8S-QLsBR4Bd",
        "outputId": "61451c04-1a1d-4ba2-82e4-8807dd81059a"
      },
      "source": [
        "df.isnull().sum()"
      ],
      "execution_count": 5,
      "outputs": [
        {
          "output_type": "execute_result",
          "data": {
            "text/plain": [
              "Cement (component 1)(kg in a m^3 mixture)                0\n",
              "Blast Furnace Slag (component 2)(kg in a m^3 mixture)    0\n",
              "Fly Ash (component 3)(kg in a m^3 mixture)               0\n",
              "Water  (component 4)(kg in a m^3 mixture)                0\n",
              "Superplasticizer (component 5)(kg in a m^3 mixture)      0\n",
              "Coarse Aggregate  (component 6)(kg in a m^3 mixture)     0\n",
              "Fine Aggregate (component 7)(kg in a m^3 mixture)        0\n",
              "Age (day)                                                0\n",
              "Concrete compressive strength(MPa, megapascals)          0\n",
              "dtype: int64"
            ]
          },
          "metadata": {
            "tags": []
          },
          "execution_count": 5
        }
      ]
    },
    {
      "cell_type": "code",
      "metadata": {
        "colab": {
          "base_uri": "https://localhost:8080/",
          "height": 348
        },
        "id": "NAoNRjCbSKxZ",
        "outputId": "53259b75-157e-426d-e78e-42b56bd02c75"
      },
      "source": [
        "df.describe()"
      ],
      "execution_count": 6,
      "outputs": [
        {
          "output_type": "execute_result",
          "data": {
            "text/html": [
              "<div>\n",
              "<style scoped>\n",
              "    .dataframe tbody tr th:only-of-type {\n",
              "        vertical-align: middle;\n",
              "    }\n",
              "\n",
              "    .dataframe tbody tr th {\n",
              "        vertical-align: top;\n",
              "    }\n",
              "\n",
              "    .dataframe thead th {\n",
              "        text-align: right;\n",
              "    }\n",
              "</style>\n",
              "<table border=\"1\" class=\"dataframe\">\n",
              "  <thead>\n",
              "    <tr style=\"text-align: right;\">\n",
              "      <th></th>\n",
              "      <th>Cement (component 1)(kg in a m^3 mixture)</th>\n",
              "      <th>Blast Furnace Slag (component 2)(kg in a m^3 mixture)</th>\n",
              "      <th>Fly Ash (component 3)(kg in a m^3 mixture)</th>\n",
              "      <th>Water  (component 4)(kg in a m^3 mixture)</th>\n",
              "      <th>Superplasticizer (component 5)(kg in a m^3 mixture)</th>\n",
              "      <th>Coarse Aggregate  (component 6)(kg in a m^3 mixture)</th>\n",
              "      <th>Fine Aggregate (component 7)(kg in a m^3 mixture)</th>\n",
              "      <th>Age (day)</th>\n",
              "      <th>Concrete compressive strength(MPa, megapascals)</th>\n",
              "    </tr>\n",
              "  </thead>\n",
              "  <tbody>\n",
              "    <tr>\n",
              "      <th>count</th>\n",
              "      <td>1030.000000</td>\n",
              "      <td>1030.000000</td>\n",
              "      <td>1030.000000</td>\n",
              "      <td>1030.000000</td>\n",
              "      <td>1030.000000</td>\n",
              "      <td>1030.000000</td>\n",
              "      <td>1030.000000</td>\n",
              "      <td>1030.000000</td>\n",
              "      <td>1030.000000</td>\n",
              "    </tr>\n",
              "    <tr>\n",
              "      <th>mean</th>\n",
              "      <td>281.167864</td>\n",
              "      <td>73.895825</td>\n",
              "      <td>54.188350</td>\n",
              "      <td>181.567282</td>\n",
              "      <td>6.204660</td>\n",
              "      <td>972.918932</td>\n",
              "      <td>773.580485</td>\n",
              "      <td>45.662136</td>\n",
              "      <td>35.817961</td>\n",
              "    </tr>\n",
              "    <tr>\n",
              "      <th>std</th>\n",
              "      <td>104.506364</td>\n",
              "      <td>86.279342</td>\n",
              "      <td>63.997004</td>\n",
              "      <td>21.354219</td>\n",
              "      <td>5.973841</td>\n",
              "      <td>77.753954</td>\n",
              "      <td>80.175980</td>\n",
              "      <td>63.169912</td>\n",
              "      <td>16.705742</td>\n",
              "    </tr>\n",
              "    <tr>\n",
              "      <th>min</th>\n",
              "      <td>102.000000</td>\n",
              "      <td>0.000000</td>\n",
              "      <td>0.000000</td>\n",
              "      <td>121.800000</td>\n",
              "      <td>0.000000</td>\n",
              "      <td>801.000000</td>\n",
              "      <td>594.000000</td>\n",
              "      <td>1.000000</td>\n",
              "      <td>2.330000</td>\n",
              "    </tr>\n",
              "    <tr>\n",
              "      <th>25%</th>\n",
              "      <td>192.375000</td>\n",
              "      <td>0.000000</td>\n",
              "      <td>0.000000</td>\n",
              "      <td>164.900000</td>\n",
              "      <td>0.000000</td>\n",
              "      <td>932.000000</td>\n",
              "      <td>730.950000</td>\n",
              "      <td>7.000000</td>\n",
              "      <td>23.710000</td>\n",
              "    </tr>\n",
              "    <tr>\n",
              "      <th>50%</th>\n",
              "      <td>272.900000</td>\n",
              "      <td>22.000000</td>\n",
              "      <td>0.000000</td>\n",
              "      <td>185.000000</td>\n",
              "      <td>6.400000</td>\n",
              "      <td>968.000000</td>\n",
              "      <td>779.500000</td>\n",
              "      <td>28.000000</td>\n",
              "      <td>34.445000</td>\n",
              "    </tr>\n",
              "    <tr>\n",
              "      <th>75%</th>\n",
              "      <td>350.000000</td>\n",
              "      <td>142.950000</td>\n",
              "      <td>118.300000</td>\n",
              "      <td>192.000000</td>\n",
              "      <td>10.200000</td>\n",
              "      <td>1029.400000</td>\n",
              "      <td>824.000000</td>\n",
              "      <td>56.000000</td>\n",
              "      <td>46.135000</td>\n",
              "    </tr>\n",
              "    <tr>\n",
              "      <th>max</th>\n",
              "      <td>540.000000</td>\n",
              "      <td>359.400000</td>\n",
              "      <td>200.100000</td>\n",
              "      <td>247.000000</td>\n",
              "      <td>32.200000</td>\n",
              "      <td>1145.000000</td>\n",
              "      <td>992.600000</td>\n",
              "      <td>365.000000</td>\n",
              "      <td>82.600000</td>\n",
              "    </tr>\n",
              "  </tbody>\n",
              "</table>\n",
              "</div>"
            ],
            "text/plain": [
              "       Cement (component 1)(kg in a m^3 mixture)  ...  Concrete compressive strength(MPa, megapascals) \n",
              "count                                1030.000000  ...                                       1030.000000\n",
              "mean                                  281.167864  ...                                         35.817961\n",
              "std                                   104.506364  ...                                         16.705742\n",
              "min                                   102.000000  ...                                          2.330000\n",
              "25%                                   192.375000  ...                                         23.710000\n",
              "50%                                   272.900000  ...                                         34.445000\n",
              "75%                                   350.000000  ...                                         46.135000\n",
              "max                                   540.000000  ...                                         82.600000\n",
              "\n",
              "[8 rows x 9 columns]"
            ]
          },
          "metadata": {
            "tags": []
          },
          "execution_count": 6
        }
      ]
    },
    {
      "cell_type": "code",
      "metadata": {
        "colab": {
          "base_uri": "https://localhost:8080/"
        },
        "id": "NHZ4H5GPSUz8",
        "outputId": "30ec9b40-c9f2-494f-c59e-638da7b98820"
      },
      "source": [
        "df.info()"
      ],
      "execution_count": 7,
      "outputs": [
        {
          "output_type": "stream",
          "text": [
            "<class 'pandas.core.frame.DataFrame'>\n",
            "RangeIndex: 1030 entries, 0 to 1029\n",
            "Data columns (total 9 columns):\n",
            " #   Column                                                 Non-Null Count  Dtype  \n",
            "---  ------                                                 --------------  -----  \n",
            " 0   Cement (component 1)(kg in a m^3 mixture)              1030 non-null   float64\n",
            " 1   Blast Furnace Slag (component 2)(kg in a m^3 mixture)  1030 non-null   float64\n",
            " 2   Fly Ash (component 3)(kg in a m^3 mixture)             1030 non-null   float64\n",
            " 3   Water  (component 4)(kg in a m^3 mixture)              1030 non-null   float64\n",
            " 4   Superplasticizer (component 5)(kg in a m^3 mixture)    1030 non-null   float64\n",
            " 5   Coarse Aggregate  (component 6)(kg in a m^3 mixture)   1030 non-null   float64\n",
            " 6   Fine Aggregate (component 7)(kg in a m^3 mixture)      1030 non-null   float64\n",
            " 7   Age (day)                                              1030 non-null   int64  \n",
            " 8   Concrete compressive strength(MPa, megapascals)        1030 non-null   float64\n",
            "dtypes: float64(8), int64(1)\n",
            "memory usage: 72.5 KB\n"
          ],
          "name": "stdout"
        }
      ]
    },
    {
      "cell_type": "code",
      "metadata": {
        "colab": {
          "base_uri": "https://localhost:8080/"
        },
        "id": "1BOyIHonVu9W",
        "outputId": "812a7e30-e131-4594-b000-f759428581ad"
      },
      "source": [
        "df.keys()# to gets columns name"
      ],
      "execution_count": 8,
      "outputs": [
        {
          "output_type": "execute_result",
          "data": {
            "text/plain": [
              "Index(['Cement (component 1)(kg in a m^3 mixture)',\n",
              "       'Blast Furnace Slag (component 2)(kg in a m^3 mixture)',\n",
              "       'Fly Ash (component 3)(kg in a m^3 mixture)',\n",
              "       'Water  (component 4)(kg in a m^3 mixture)',\n",
              "       'Superplasticizer (component 5)(kg in a m^3 mixture)',\n",
              "       'Coarse Aggregate  (component 6)(kg in a m^3 mixture)',\n",
              "       'Fine Aggregate (component 7)(kg in a m^3 mixture)', 'Age (day)',\n",
              "       'Concrete compressive strength(MPa, megapascals) '],\n",
              "      dtype='object')"
            ]
          },
          "metadata": {
            "tags": []
          },
          "execution_count": 8
        }
      ]
    },
    {
      "cell_type": "code",
      "metadata": {
        "id": "0pI6EOmVSYA9"
      },
      "source": [
        "# split dataframe into input and output\n",
        "data=df.iloc[:,:8]\n",
        "\n",
        "targets=df.iloc[:,-1]"
      ],
      "execution_count": 9,
      "outputs": []
    },
    {
      "cell_type": "code",
      "metadata": {
        "colab": {
          "base_uri": "https://localhost:8080/",
          "height": 1000
        },
        "id": "VgcX-c4uV9H1",
        "outputId": "cca251c5-06e0-47b7-fc24-384116ed1c5c"
      },
      "source": [
        "%matplotlib inline\n",
        "import matplotlib.pyplot as plt\n",
        "plt.style.use('ggplot')\n",
        "pd.DataFrame.hist(data, figsize = [30,30], color=\"Green\")\n",
        "plt.show()"
      ],
      "execution_count": 10,
      "outputs": [
        {
          "output_type": "display_data",
          "data": {
            "image/png": "[encoded data removed]",
            "text/plain": [
              "<Figure size 2160x2160 with 9 Axes>"
            ]
          },
          "metadata": {
            "tags": []
          }
        }
      ]
    },
    {
      "cell_type": "code",
      "metadata": {
        "colab": {
          "base_uri": "https://localhost:8080/",
          "height": 445
        },
        "id": "zNhK-R69vqFN",
        "outputId": "e3b74796-7933-434d-d4e6-50770b8e71b9"
      },
      "source": [
        "plt.style.use('ggplot')\n",
        "targets.hist( figsize = [7,7], color=\"Blue\")\n",
        "plt.title(\"Actual Targets\")\n",
        "plt.show()"
      ],
      "execution_count": 11,
      "outputs": [
        {
          "output_type": "display_data",
          "data": {
            "image/png": "[encoded data removed]",
            "text/plain": [
              "<Figure size 504x504 with 1 Axes>"
            ]
          },
          "metadata": {
            "tags": []
          }
        }
      ]
    },
    {
      "cell_type": "code",
      "metadata": {
        "id": "mel2k2Nwf0LI"
      },
      "source": [
        "# standardized or normalized the data (input variables)\n",
        "mean = data.mean(axis=0)\n",
        "data-= mean\n",
        "std = data.std(axis=0)\n",
        "data/= std"
      ],
      "execution_count": 12,
      "outputs": []
    },
    {
      "cell_type": "code",
      "metadata": {
        "id": "e6Q4b8UpXI8a"
      },
      "source": [
        "# data spliting using machine learning spliting method\n",
        "from sklearn.model_selection import train_test_split\n",
        "X_train,X_test,y_train,y_test=train_test_split(data,targets,random_state=0)"
      ],
      "execution_count": 13,
      "outputs": []
    },
    {
      "cell_type": "code",
      "metadata": {
        "colab": {
          "base_uri": "https://localhost:8080/"
        },
        "id": "cxld28AodAxY",
        "outputId": "31a3a7a8-d68c-4dc6-b0ac-de81b8f66eca"
      },
      "source": [
        "print(f\"Shape of training data :{X_train.shape},\\nShape of training targets:{y_train.shape}\")"
      ],
      "execution_count": 14,
      "outputs": [
        {
          "output_type": "stream",
          "text": [
            "Shape of training data :(772, 8),\n",
            "Shape of training targets:(772,)\n"
          ],
          "name": "stdout"
        }
      ]
    },
    {
      "cell_type": "code",
      "metadata": {
        "colab": {
          "base_uri": "https://localhost:8080/"
        },
        "id": "XsIXmksBdKGl",
        "outputId": "d69c8bab-33f4-4a6e-e94b-d47dd4248d5f"
      },
      "source": [
        "print(f\"Shape of testing data :{X_test.shape},\\nShape of testing targets:{y_test.shape}\")"
      ],
      "execution_count": 15,
      "outputs": [
        {
          "output_type": "stream",
          "text": [
            "Shape of testing data :(258, 8),\n",
            "Shape of testing targets:(258,)\n"
          ],
          "name": "stdout"
        }
      ]
    },
    {
      "cell_type": "code",
      "metadata": {
        "id": "pJ4OdxP9g5Wa"
      },
      "source": [
        "X_train= np.asarray(X_train).astype('float32')\n",
        "X_test= np.asarray(X_test).astype('float32')\n"
      ],
      "execution_count": 16,
      "outputs": []
    },
    {
      "cell_type": "code",
      "metadata": {
        "id": "uTKLaC-_jgZC"
      },
      "source": [
        "val_X = X_train[:230]\n",
        "partial_X_train=X_train[230:]\n",
        "val_y=y_train[:230]\n",
        "partial_y_train=y_train[230:]\n"
      ],
      "execution_count": 17,
      "outputs": []
    },
    {
      "cell_type": "code",
      "metadata": {
        "id": "yI9PhkMyhH9Q"
      },
      "source": [
        "from keras import models, layers , optimizers"
      ],
      "execution_count": 18,
      "outputs": []
    },
    {
      "cell_type": "code",
      "metadata": {
        "id": "FBHIpQiNhLsk"
      },
      "source": [
        "network=models.Sequential()\n",
        "network.add(tf.keras.layers.Dense(10,activation=\"relu\",input_shape=(X_train.shape[1],)))\n",
        "network.add(tf.keras.layers.Dense(8,activation=\"relu\"))\n",
        "network.add(tf.keras.layers.Dense(1))\n"
      ],
      "execution_count": 19,
      "outputs": []
    },
    {
      "cell_type": "code",
      "metadata": {
        "colab": {
          "base_uri": "https://localhost:8080/"
        },
        "id": "vxNlTIfWihRB",
        "outputId": "dac6cd01-aae4-4813-c0b1-961b6cf6ac3b"
      },
      "source": [
        "network.summary()"
      ],
      "execution_count": 20,
      "outputs": [
        {
          "output_type": "stream",
          "text": [
            "Model: \"sequential\"\n",
            "_________________________________________________________________\n",
            "Layer (type)                 Output Shape              Param #   \n",
            "=================================================================\n",
            "dense (Dense)                (None, 10)                90        \n",
            "_________________________________________________________________\n",
            "dense_1 (Dense)              (None, 8)                 88        \n",
            "_________________________________________________________________\n",
            "dense_2 (Dense)              (None, 1)                 9         \n",
            "=================================================================\n",
            "Total params: 187\n",
            "Trainable params: 187\n",
            "Non-trainable params: 0\n",
            "_________________________________________________________________\n"
          ],
          "name": "stdout"
        }
      ]
    },
    {
      "cell_type": "code",
      "metadata": {
        "id": "DojP0-ZZipQE"
      },
      "source": [
        "network.compile(optimizer=optimizers.RMSprop(lr=0.001), loss=\"mse\",metrics=['mae'])"
      ],
      "execution_count": 21,
      "outputs": []
    },
    {
      "cell_type": "code",
      "metadata": {
        "colab": {
          "base_uri": "https://localhost:8080/"
        },
        "id": "KE-wc1irh7dL",
        "outputId": "3d88322d-aa39-4067-d335-91ef9cf72526"
      },
      "source": [
        "history=network.fit(partial_X_train,partial_y_train,epochs=10,validation_data=(val_X,val_y),batch_size=1,verbose=1)"
      ],
      "execution_count": 22,
      "outputs": [
        {
          "output_type": "stream",
          "text": [
            "Epoch 1/10\n",
            "542/542 [==============================] - 2s 2ms/step - loss: 1430.9895 - mae: 34.0383 - val_loss: 948.0950 - val_mae: 26.7817\n",
            "Epoch 2/10\n",
            "542/542 [==============================] - 1s 1ms/step - loss: 703.0197 - mae: 21.6720 - val_loss: 269.1005 - val_mae: 13.4606\n",
            "Epoch 3/10\n",
            "542/542 [==============================] - 1s 1ms/step - loss: 212.5919 - mae: 11.4116 - val_loss: 197.5254 - val_mae: 11.1885\n",
            "Epoch 4/10\n",
            "542/542 [==============================] - 1s 1ms/step - loss: 155.5006 - mae: 9.9881 - val_loss: 176.1839 - val_mae: 10.5439\n",
            "Epoch 5/10\n",
            "542/542 [==============================] - 1s 1ms/step - loss: 154.9052 - mae: 9.9264 - val_loss: 163.5662 - val_mae: 10.0597\n",
            "Epoch 6/10\n",
            "542/542 [==============================] - 1s 1ms/step - loss: 134.7485 - mae: 9.2816 - val_loss: 158.2883 - val_mae: 9.7907\n",
            "Epoch 7/10\n",
            "542/542 [==============================] - 1s 1ms/step - loss: 151.7251 - mae: 9.5621 - val_loss: 153.4237 - val_mae: 9.8462\n",
            "Epoch 8/10\n",
            "542/542 [==============================] - 1s 1ms/step - loss: 138.3657 - mae: 9.3273 - val_loss: 149.6866 - val_mae: 9.7431\n",
            "Epoch 9/10\n",
            "542/542 [==============================] - 1s 1ms/step - loss: 139.0524 - mae: 9.4769 - val_loss: 146.0349 - val_mae: 9.4774\n",
            "Epoch 10/10\n",
            "542/542 [==============================] - 1s 1ms/step - loss: 155.8631 - mae: 9.6947 - val_loss: 142.5582 - val_mae: 9.3837\n"
          ],
          "name": "stdout"
        }
      ]
    },
    {
      "cell_type": "code",
      "metadata": {
        "colab": {
          "base_uri": "https://localhost:8080/",
          "height": 299
        },
        "id": "XY28DpqQlLYr",
        "outputId": "0213f602-f4b9-4d12-d830-f906ba86125e"
      },
      "source": [
        "loss = history.history['loss']\n",
        "val_loss = history.history['val_loss']\n",
        "epochs = range(1, len(loss) + 1)\n",
        "plt.plot(epochs, loss, 'bo', label='Training loss')\n",
        "plt.plot(epochs, val_loss, 'b', label='Validation loss')\n",
        "plt.title('Training and validation loss')\n",
        "plt.xlabel('Epochs')\n",
        "plt.ylabel('Loss')\n",
        "plt.legend()\n",
        "plt.show()"
      ],
      "execution_count": 23,
      "outputs": [
        {
          "output_type": "display_data",
          "data": {
            "image/png": "[encoded data removed]",
            "text/plain": [
              "<Figure size 432x288 with 1 Axes>"
            ]
          },
          "metadata": {
            "tags": []
          }
        }
      ]
    },
    {
      "cell_type": "code",
      "metadata": {
        "colab": {
          "base_uri": "https://localhost:8080/"
        },
        "id": "425Sn4TpmDgv",
        "outputId": "e1f80c73-7862-4b82-d804-77cd94b66b38"
      },
      "source": [
        "all_mae_histories=[]\n",
        "mae_history = history.history['val_mae']\n",
        "all_mae_histories.append(mae_history)\n",
        "print(all_mae_histories)"
      ],
      "execution_count": 24,
      "outputs": [
        {
          "output_type": "stream",
          "text": [
            "[[26.7817440032959, 13.460590362548828, 11.188505172729492, 10.543926239013672, 10.059720039367676, 9.790678977966309, 9.846193313598633, 9.743099212646484, 9.477425575256348, 9.383688926696777]]\n"
          ],
          "name": "stdout"
        }
      ]
    },
    {
      "cell_type": "code",
      "metadata": {
        "colab": {
          "base_uri": "https://localhost:8080/"
        },
        "id": "eYbwAuH9n0MS",
        "outputId": "f3b89334-e65a-48e9-b2f7-5a1b027b342d"
      },
      "source": [
        "average_mae_history = [np.mean([x[i] for x in all_mae_histories]) for i in range(2)]\n",
        "print(average_mae_history)"
      ],
      "execution_count": 25,
      "outputs": [
        {
          "output_type": "stream",
          "text": [
            "[26.7817440032959, 13.460590362548828]\n"
          ],
          "name": "stdout"
        }
      ]
    },
    {
      "cell_type": "code",
      "metadata": {
        "colab": {
          "base_uri": "https://localhost:8080/",
          "height": 299
        },
        "id": "_QIM2eiRmxTw",
        "outputId": "4648d720-9a6c-4582-9898-1ff1bf2e0453"
      },
      "source": [
        "plt.plot(range(1, len(average_mae_history) + 1), average_mae_history)\n",
        "plt.title('Validation MAE by Epochs')\n",
        "plt.xlabel('Epochs')\n",
        "plt.ylabel('Validation MAE')\n",
        "plt.grid()\n",
        "plt.show()"
      ],
      "execution_count": 26,
      "outputs": [
        {
          "output_type": "display_data",
          "data": {
            "image/png": "[encoded data removed]",
            "text/plain": [
              "<Figure size 432x288 with 1 Axes>"
            ]
          },
          "metadata": {
            "tags": []
          }
        }
      ]
    },
    {
      "cell_type": "code",
      "metadata": {
        "colab": {
          "base_uri": "https://localhost:8080/"
        },
        "id": "aedgvZfCoEqr",
        "outputId": "986ac1b7-3a6d-439d-dc62-9dcd1aedcdaa"
      },
      "source": [
        "test_mse_score, test_mae_score = network.evaluate(X_test, y_test)"
      ],
      "execution_count": 27,
      "outputs": [
        {
          "output_type": "stream",
          "text": [
            "9/9 [==============================] - 0s 2ms/step - loss: 118.9400 - mae: 8.7563\n"
          ],
          "name": "stdout"
        }
      ]
    },
    {
      "cell_type": "code",
      "metadata": {
        "colab": {
          "base_uri": "https://localhost:8080/"
        },
        "id": "VGsxBThTqvjm",
        "outputId": "2501b270-5dd1-4982-b567-fb4f0a174a5c"
      },
      "source": [
        " test_mae_score"
      ],
      "execution_count": 28,
      "outputs": [
        {
          "output_type": "execute_result",
          "data": {
            "text/plain": [
              "8.756336212158203"
            ]
          },
          "metadata": {
            "tags": []
          },
          "execution_count": 28
        }
      ]
    },
    {
      "cell_type": "code",
      "metadata": {
        "colab": {
          "base_uri": "https://localhost:8080/"
        },
        "id": "qepWbko8rXy7",
        "outputId": "4a33a218-474d-4476-caeb-3c6584ca7418"
      },
      "source": [
        "y_pred = network.predict(X_test)\n",
        "y_pred"
      ],
      "execution_count": 29,
      "outputs": [
        {
          "output_type": "execute_result",
          "data": {
            "text/plain": [
              "array([[38.99406 ],\n",
              "       [18.903164],\n",
              "       [61.54245 ],\n",
              "       [49.12693 ],\n",
              "       [24.422642],\n",
              "       [57.42202 ],\n",
              "       [48.0746  ],\n",
              "       [30.434351],\n",
              "       [54.974396],\n",
              "       [43.843685],\n",
              "       [16.75561 ],\n",
              "       [44.303303],\n",
              "       [23.596737],\n",
              "       [30.054863],\n",
              "       [46.958878],\n",
              "       [57.559196],\n",
              "       [35.897533],\n",
              "       [27.895721],\n",
              "       [51.922394],\n",
              "       [30.218384],\n",
              "       [49.423683],\n",
              "       [33.154243],\n",
              "       [31.025442],\n",
              "       [51.519775],\n",
              "       [20.598955],\n",
              "       [19.917053],\n",
              "       [87.722435],\n",
              "       [29.646463],\n",
              "       [57.559196],\n",
              "       [45.560585],\n",
              "       [16.118996],\n",
              "       [35.725082],\n",
              "       [17.770061],\n",
              "       [28.167751],\n",
              "       [23.09314 ],\n",
              "       [14.948458],\n",
              "       [56.83039 ],\n",
              "       [25.985794],\n",
              "       [28.70834 ],\n",
              "       [23.518312],\n",
              "       [47.59135 ],\n",
              "       [30.19604 ],\n",
              "       [27.471123],\n",
              "       [33.245564],\n",
              "       [59.771507],\n",
              "       [54.01744 ],\n",
              "       [27.907963],\n",
              "       [44.84926 ],\n",
              "       [36.67945 ],\n",
              "       [67.189835],\n",
              "       [32.41007 ],\n",
              "       [20.279928],\n",
              "       [29.276083],\n",
              "       [29.381042],\n",
              "       [42.428368],\n",
              "       [44.468246],\n",
              "       [33.802628],\n",
              "       [52.444378],\n",
              "       [61.764988],\n",
              "       [34.57921 ],\n",
              "       [29.194798],\n",
              "       [17.924164],\n",
              "       [46.70935 ],\n",
              "       [60.507587],\n",
              "       [15.344232],\n",
              "       [42.24401 ],\n",
              "       [27.942081],\n",
              "       [39.56742 ],\n",
              "       [22.223623],\n",
              "       [18.233166],\n",
              "       [29.763863],\n",
              "       [30.355583],\n",
              "       [54.52461 ],\n",
              "       [22.168964],\n",
              "       [26.113537],\n",
              "       [49.45829 ],\n",
              "       [21.619417],\n",
              "       [17.732765],\n",
              "       [24.078634],\n",
              "       [24.04499 ],\n",
              "       [20.560825],\n",
              "       [43.75187 ],\n",
              "       [30.340687],\n",
              "       [29.395222],\n",
              "       [33.709488],\n",
              "       [36.52841 ],\n",
              "       [43.771088],\n",
              "       [45.23568 ],\n",
              "       [40.470753],\n",
              "       [35.211067],\n",
              "       [49.700283],\n",
              "       [19.05897 ],\n",
              "       [29.270794],\n",
              "       [37.68927 ],\n",
              "       [33.123333],\n",
              "       [62.26723 ],\n",
              "       [30.722485],\n",
              "       [31.021019],\n",
              "       [47.03923 ],\n",
              "       [26.478027],\n",
              "       [23.58153 ],\n",
              "       [38.68406 ],\n",
              "       [20.532234],\n",
              "       [36.005947],\n",
              "       [37.165985],\n",
              "       [31.787857],\n",
              "       [38.533306],\n",
              "       [36.03916 ],\n",
              "       [24.771395],\n",
              "       [36.47833 ],\n",
              "       [21.313398],\n",
              "       [53.766357],\n",
              "       [21.901287],\n",
              "       [28.949385],\n",
              "       [38.592583],\n",
              "       [69.43985 ],\n",
              "       [29.526371],\n",
              "       [42.374966],\n",
              "       [41.375694],\n",
              "       [27.83923 ],\n",
              "       [41.510406],\n",
              "       [22.555105],\n",
              "       [65.74985 ],\n",
              "       [20.580162],\n",
              "       [26.447674],\n",
              "       [16.39672 ],\n",
              "       [15.244917],\n",
              "       [21.43307 ],\n",
              "       [35.029324],\n",
              "       [27.805544],\n",
              "       [28.219141],\n",
              "       [54.922928],\n",
              "       [28.560783],\n",
              "       [32.286415],\n",
              "       [20.197483],\n",
              "       [51.004776],\n",
              "       [70.283195],\n",
              "       [30.464373],\n",
              "       [17.813988],\n",
              "       [21.775093],\n",
              "       [38.423115],\n",
              "       [54.153175],\n",
              "       [28.251095],\n",
              "       [31.13797 ],\n",
              "       [15.707334],\n",
              "       [35.805855],\n",
              "       [42.30018 ],\n",
              "       [19.815578],\n",
              "       [24.598059],\n",
              "       [16.496298],\n",
              "       [22.644138],\n",
              "       [32.694485],\n",
              "       [19.524807],\n",
              "       [26.573029],\n",
              "       [30.962584],\n",
              "       [28.556347],\n",
              "       [44.27768 ],\n",
              "       [28.73346 ],\n",
              "       [26.21751 ],\n",
              "       [21.28535 ],\n",
              "       [42.945057],\n",
              "       [36.50304 ],\n",
              "       [27.963686],\n",
              "       [22.648357],\n",
              "       [39.75606 ],\n",
              "       [19.29857 ],\n",
              "       [71.61946 ],\n",
              "       [53.279472],\n",
              "       [66.64649 ],\n",
              "       [14.951801],\n",
              "       [34.84136 ],\n",
              "       [28.35151 ],\n",
              "       [22.763083],\n",
              "       [67.30819 ],\n",
              "       [21.823376],\n",
              "       [20.684023],\n",
              "       [26.330038],\n",
              "       [47.1352  ],\n",
              "       [24.258947],\n",
              "       [43.27224 ],\n",
              "       [30.676561],\n",
              "       [35.696423],\n",
              "       [17.191692],\n",
              "       [39.29132 ],\n",
              "       [30.777475],\n",
              "       [36.708652],\n",
              "       [42.006424],\n",
              "       [35.920433],\n",
              "       [30.241617],\n",
              "       [46.70935 ],\n",
              "       [21.848463],\n",
              "       [91.87141 ],\n",
              "       [42.491215],\n",
              "       [28.167477],\n",
              "       [19.069775],\n",
              "       [27.686558],\n",
              "       [30.271252],\n",
              "       [31.958294],\n",
              "       [27.258787],\n",
              "       [54.954216],\n",
              "       [19.566624],\n",
              "       [22.113323],\n",
              "       [42.710182],\n",
              "       [29.536652],\n",
              "       [28.005136],\n",
              "       [18.84162 ],\n",
              "       [36.32821 ],\n",
              "       [27.502697],\n",
              "       [34.94363 ],\n",
              "       [23.675142],\n",
              "       [49.834248],\n",
              "       [20.883802],\n",
              "       [23.631042],\n",
              "       [26.327927],\n",
              "       [32.102253],\n",
              "       [23.97728 ],\n",
              "       [19.078035],\n",
              "       [38.792755],\n",
              "       [21.135159],\n",
              "       [37.34974 ],\n",
              "       [57.924164],\n",
              "       [29.849255],\n",
              "       [40.59498 ],\n",
              "       [39.933517],\n",
              "       [42.836754],\n",
              "       [34.067898],\n",
              "       [22.232235],\n",
              "       [31.277847],\n",
              "       [29.69247 ],\n",
              "       [45.95645 ],\n",
              "       [35.118942],\n",
              "       [38.34863 ],\n",
              "       [69.022995],\n",
              "       [17.847599],\n",
              "       [39.862125],\n",
              "       [29.915289],\n",
              "       [29.608318],\n",
              "       [33.935364],\n",
              "       [28.148243],\n",
              "       [60.05629 ],\n",
              "       [64.66942 ],\n",
              "       [33.802284],\n",
              "       [45.179054],\n",
              "       [31.087427],\n",
              "       [26.76244 ],\n",
              "       [21.39892 ],\n",
              "       [44.0269  ],\n",
              "       [21.48393 ],\n",
              "       [32.869663],\n",
              "       [18.195404],\n",
              "       [15.287025],\n",
              "       [38.431244],\n",
              "       [40.82431 ],\n",
              "       [34.335842],\n",
              "       [35.83988 ],\n",
              "       [23.008677],\n",
              "       [29.994392],\n",
              "       [19.900047]], dtype=float32)"
            ]
          },
          "metadata": {
            "tags": []
          },
          "execution_count": 29
        }
      ]
    },
    {
      "cell_type": "code",
      "metadata": {
        "colab": {
          "base_uri": "https://localhost:8080/"
        },
        "id": "dBdthc-vsw4_",
        "outputId": "ab637d3b-e475-4947-b8ee-312de074b5f1"
      },
      "source": [
        "y_test"
      ],
      "execution_count": 30,
      "outputs": [
        {
          "output_type": "execute_result",
          "data": {
            "text/plain": [
              "747    26.06\n",
              "718    10.35\n",
              "175    79.30\n",
              "828    74.99\n",
              "713     9.69\n",
              "       ...  \n",
              "453    31.72\n",
              "906    39.42\n",
              "757    18.13\n",
              "875    18.28\n",
              "62      9.87\n",
              "Name: Concrete compressive strength(MPa, megapascals) , Length: 258, dtype: float64"
            ]
          },
          "metadata": {
            "tags": []
          },
          "execution_count": 30
        }
      ]
    },
    {
      "cell_type": "code",
      "metadata": {
        "colab": {
          "base_uri": "https://localhost:8080/",
          "height": 339
        },
        "id": "osFYrcPkrnnE",
        "outputId": "d7f4406f-f3f0-4ace-fff8-6cfe041ef72b"
      },
      "source": [
        "plt.figure(figsize=(20,5))\n",
        "plt.subplot(1, 2, 1 )\n",
        "plt.hist(targets)\n",
        "plt.xlabel('original target value')\n",
        "plt.ylabel('count')\n",
        "plt.subplot(1, 2, 2)\n",
        "plt.hist(y_pred)\n",
        "plt.xlabel('aggregated target value')\n",
        "plt.show()"
      ],
      "execution_count": 31,
      "outputs": [
        {
          "output_type": "display_data",
          "data": {
            "image/png": "[encoded data removed]",
            "text/plain": [
              "<Figure size 1440x360 with 2 Axes>"
            ]
          },
          "metadata": {
            "tags": []
          }
        }
      ]
    },
    {
      "cell_type": "code",
      "metadata": {
        "id": "KIYPV1HTafJq"
      },
      "source": [
        ""
      ],
      "execution_count": 31,
      "outputs": []
    }
  ]
}